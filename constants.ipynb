{
 "cells": [
  {
   "cell_type": "code",
   "execution_count": 1,
   "metadata": {},
   "outputs": [],
   "source": [
    "# TICKERS\n",
    "TICKERS_CRYPTO = [\n",
    "    \"BTC\", 'ETH', \"DOT1\"\n",
    "]\n",
    "\n",
    "COUNTS_CRYPTO = [10, 10, 10, 10, 10]\n",
    "\n",
    "TICKERS_COUNTS_CRYPTO = {'BTC': 10, 'ETH': 10, \"DOT1\": 10}\n",
    "\n",
    "TICKERS_CRYPTO_USD_PAIRS = ['BTC-USD', 'ETH-USD', 'DOT1-USD']"
   ]
  },
  {
   "cell_type": "code",
   "execution_count": 1,
   "metadata": {},
   "outputs": [],
   "source": [
    "TICKERS_STOCKS_NYSE = [\n",
    "    \"SPY\"\n",
    "]\n",
    "\n",
    "COUNTS_STOCKS_NYSE = [10]\n",
    "\n",
    "TICKERS_COUNTS_STOCKS_NYSE = {\n",
    "    'SPY': 10\n",
    "}"
   ]
  },
  {
   "cell_type": "code",
   "execution_count": 1,
   "metadata": {},
   "outputs": [],
   "source": [
    "START_DATE_ANALYSIS = \"2020-05-01\"\n",
    "END_DATE_ANALYSIS = \"2021-12-01\""
   ]
  },
  {
   "cell_type": "markdown",
   "metadata": {},
   "source": [
    "dict(zip(TICKERS_CRYPTO, COUNTS_CRYPTO))"
   ]
  }
 ],
 "metadata": {
  "kernelspec": {
   "display_name": "Python 3",
   "language": "python",
   "name": "python3"
  },
  "language_info": {
   "codemirror_mode": {
    "name": "ipython",
    "version": 3
   },
   "file_extension": ".py",
   "mimetype": "text/x-python",
   "name": "python",
   "nbconvert_exporter": "python",
   "pygments_lexer": "ipython3",
   "version": "3.7.4"
  }
 },
 "nbformat": 4,
 "nbformat_minor": 4
}
