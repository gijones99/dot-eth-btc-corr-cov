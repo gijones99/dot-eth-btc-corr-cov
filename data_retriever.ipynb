{
 "cells": [
  {
   "cell_type": "code",
   "execution_count": 1,
   "metadata": {},
   "outputs": [],
   "source": [
    "import pandas as pd\n",
    "import numpy as np\n",
    "from pandas_datareader.data import DataReader"
   ]
  },
  {
   "cell_type": "code",
   "execution_count": 2,
   "metadata": {},
   "outputs": [],
   "source": [
    "def get_log_returns_from_yahoo(tickers, start_date, end_date, session):\n",
    "    # initialise output dataframe\n",
    "    returns_df = pd.DataFrame()\n",
    "    \n",
    "    for ticker in tickers:\n",
    "        # retrieve stock data (includes Date, OHLC, Volume, Adjusted Close)\n",
    "        s = DataReader(ticker, 'yahoo', start_date, end_date, session=session)\n",
    "        # calculate log returns\n",
    "        s['Log Returns'] = np.log(s['Adj Close']/s['Adj Close'].shift(1))\n",
    "        # append to returns_df\n",
    "        returns_df[ticker] = s['Log Returns']\n",
    "        \n",
    "    # skip the first row (that will be NA)\n",
    "    # and fill other NA values by 0 in case there are trading halts on specific days\n",
    "    returns_df = returns_df.iloc[1:].fillna(0)\n",
    "        \n",
    "    return returns_df #log returns\n",
    "\n",
    "def get_prices_from_yahoo(tickers, start_date, end_date, session):\n",
    "    # initialise output dataframe\n",
    "    prices_df = pd.DataFrame()\n",
    "    \n",
    "    for ticker in tickers:\n",
    "        # retrieve stock data (includes Date, OHLC, Volume, Adjusted Close)\n",
    "        s = DataReader(ticker, 'yahoo', start_date, end_date, session=session)\n",
    "        # append to prices_df\n",
    "        prices_df[ticker] = s['Adj Close']\n",
    "        \n",
    "    # skip the first row (that will be NA)\n",
    "    # and fill other NA values by 0 in case there are trading halts on specific days\n",
    "    prices_df = prices_df.iloc[1:].fillna(0)\n",
    "        \n",
    "    return prices_df\n",
    "\n",
    "\n",
    "def get_all_returns_from_yahoo(tickers, start_date, end_date, session):\n",
    "    returns_df = pd.DataFrame()\n",
    "    \n",
    "    for ticker in tickers:\n",
    "        # retrieve stock data (includes Date, OHLC, Volume, Adjusted Close)\n",
    "        s = DataReader(ticker, 'yahoo', start_date, end_date, session=session)\n",
    "        # calculate log returns\n",
    "        s[\"Simple Returns\"] = s['Adj Close']/s['Adj Close'].shift(1)-1\n",
    "        s['Log Returns'] = np.log(s['Adj Close']/s['Adj Close'].shift(1))\n",
    "        # append to returns_df\n",
    "        returns_df[ticker+\"_log_returns\"] = s['Log Returns']\n",
    "        returns_df[ticker+\"_simple_returns\"] = s['Simple Returns']\n",
    "        \n",
    "    # skip the first row (that will be NA)\n",
    "    # and fill other NA values by 0 in case there are trading halts on specific days\n",
    "    returns_df = returns_df.iloc[1:].fillna(0)\n",
    "        \n",
    "    return returns_df"
   ]
  }
 ],
 "metadata": {
  "kernelspec": {
   "display_name": "Python 3",
   "language": "python",
   "name": "python3"
  },
  "language_info": {
   "codemirror_mode": {
    "name": "ipython",
    "version": 3
   },
   "file_extension": ".py",
   "mimetype": "text/x-python",
   "name": "python",
   "nbconvert_exporter": "python",
   "pygments_lexer": "ipython3",
   "version": "3.7.4"
  }
 },
 "nbformat": 4,
 "nbformat_minor": 4
}
